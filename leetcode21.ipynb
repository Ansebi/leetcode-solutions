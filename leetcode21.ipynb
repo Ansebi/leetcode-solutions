{
 "cells": [
  {
   "cell_type": "markdown",
   "metadata": {},
   "source": [
    "# leetcode21"
   ]
  },
  {
   "cell_type": "markdown",
   "metadata": {},
   "source": [
    "## For normal human lists:"
   ]
  },
  {
   "cell_type": "code",
   "execution_count": 72,
   "metadata": {},
   "outputs": [],
   "source": [
    "class Solution(object):\n",
    "    def mergeTwoLists(self, list1, list2):\n",
    "        \"\"\"\n",
    "        :type list1: list\n",
    "        :type list2: list\n",
    "        :rtype: list\n",
    "        \"\"\"\n",
    "        pos_list1 = 0\n",
    "        pos_list2 = 0\n",
    "        answer = []\n",
    "        len_l1 = len(list1)\n",
    "        len_l2 = len(list2)\n",
    "        len_ = len_l1 + len_l2\n",
    "\n",
    "        while True:\n",
    "            if pos_list1 >= len_l1:\n",
    "                el2 = list2[pos_list2]\n",
    "                answer.append(el2)\n",
    "                pos_list2 += 1                \n",
    "            elif pos_list2 >= len_l2:\n",
    "                el1 = list1[pos_list1]\n",
    "                answer.append(el1)\n",
    "                pos_list1 += 1                \n",
    "            else:\n",
    "                el1 = list1[pos_list1]\n",
    "                el2 = list2[pos_list2]\n",
    "                if el1 < el2:\n",
    "                    pos_list1 += 1\n",
    "                    answer.append(el1)\n",
    "                elif el1 > el2:\n",
    "                    pos_list2 += 1\n",
    "                    answer.append(el2)\n",
    "                else:\n",
    "                    pos_list1 += 1\n",
    "                    pos_list2 += 1\n",
    "                    answer.append(el1)\n",
    "                    answer.append(el2)\n",
    "            if pos_list1 + pos_list2 >= len_:\n",
    "                return answer\n",
    "\n",
    "        "
   ]
  },
  {
   "cell_type": "code",
   "execution_count": 73,
   "metadata": {},
   "outputs": [
    {
     "data": {
      "text/plain": [
       "[1, 1, 2, 2, 3, 4]"
      ]
     },
     "execution_count": 73,
     "metadata": {},
     "output_type": "execute_result"
    }
   ],
   "source": [
    "Solution().mergeTwoLists([1, 2, 3], [1, 2, 4])"
   ]
  },
  {
   "cell_type": "markdown",
   "metadata": {},
   "source": [
    "## As in the task (LinkedList object)"
   ]
  },
  {
   "cell_type": "code",
   "execution_count": 75,
   "metadata": {},
   "outputs": [],
   "source": [
    "# Definition for singly-linked list.\n",
    "class ListNode(object):\n",
    "    def __init__(self, val=0, next=None):\n",
    "        self.val = val\n",
    "        self.next = next\n",
    "\n",
    "class Solution(object):\n",
    "    def mergeTwoLists(self, list1, list2):\n",
    "        \"\"\"\n",
    "        :type list1: Optional[ListNode]\n",
    "        :type list2: Optional[ListNode]\n",
    "        :rtype: Optional[ListNode]\n",
    "        \"\"\"\n",
    "        if list1 is None:\n",
    "            if list2 is None:\n",
    "                return list1\n",
    "        \n",
    "        answer = ListNode()\n",
    "        answer_current_node = answer\n",
    "        while True:            \n",
    "                        \n",
    "            if list1 is None:\n",
    "                answer_current_node.val = list2.val\n",
    "                list2 = list2.next            \n",
    "            elif list2 is None:\n",
    "                answer_current_node.val = list1.val\n",
    "                list1 = list1.next\n",
    "            \n",
    "            else:            \n",
    "                if list1.val < list2.val:\n",
    "                    answer_current_node.val = list1.val\n",
    "                    list1 = list1.next\n",
    "                elif list1.val > list2.val:\n",
    "                    answer_current_node.val = list2.val\n",
    "                    list2 = list2.next\n",
    "                else:\n",
    "                    answer_current_node.val = list1.val\n",
    "                    answer_current_node.next = ListNode()\n",
    "                    answer_current_node = answer_current_node.next\n",
    "                    answer_current_node.val = list2.val\n",
    "                    list1 = list1.next\n",
    "                    list2 = list2.next\n",
    "\n",
    "            if list1 is None:\n",
    "                if list2 is None:\n",
    "                    return answer\n",
    "            \n",
    "            answer_current_node.next = ListNode()\n",
    "            answer_current_node = answer_current_node.next\n",
    "    "
   ]
  },
  {
   "cell_type": "code",
   "execution_count": 76,
   "metadata": {},
   "outputs": [],
   "source": [
    "a = ListNode(1, ListNode(2, ListNode(3, None)))\n",
    "b = ListNode(1, ListNode(2, ListNode(4, None)))"
   ]
  },
  {
   "cell_type": "code",
   "execution_count": 77,
   "metadata": {},
   "outputs": [],
   "source": [
    "answer = Solution().mergeTwoLists(a, b)"
   ]
  },
  {
   "cell_type": "code",
   "execution_count": 78,
   "metadata": {},
   "outputs": [
    {
     "name": "stdout",
     "output_type": "stream",
     "text": [
      "1\n",
      "1\n",
      "2\n",
      "2\n",
      "3\n",
      "4\n"
     ]
    }
   ],
   "source": [
    "while True:\n",
    "    try:\n",
    "        print(answer.val)\n",
    "        answer = answer.next\n",
    "    except:\n",
    "        break\n"
   ]
  },
  {
   "cell_type": "markdown",
   "metadata": {},
   "source": [
    "# End"
   ]
  }
 ],
 "metadata": {
  "kernelspec": {
   "display_name": "Python 3",
   "language": "python",
   "name": "python3"
  },
  "language_info": {
   "codemirror_mode": {
    "name": "ipython",
    "version": 3
   },
   "file_extension": ".py",
   "mimetype": "text/x-python",
   "name": "python",
   "nbconvert_exporter": "python",
   "pygments_lexer": "ipython3",
   "version": "3.11.1"
  }
 },
 "nbformat": 4,
 "nbformat_minor": 2
}
