{
 "cells": [
  {
   "cell_type": "code",
   "execution_count": 85,
   "metadata": {},
   "outputs": [
    {
     "data": {
      "text/plain": [
       "[24, 12, 8, 6]"
      ]
     },
     "execution_count": 85,
     "metadata": {},
     "output_type": "execute_result"
    }
   ],
   "source": [
    "class Solution0(object):\n",
    "    def productExceptSelf(self, nums):\n",
    "        \"\"\"\n",
    "        :type nums: List[int]\n",
    "        :rtype: List[int]\n",
    "        \"\"\"\n",
    "        len_ = len(nums)\n",
    "        answer = [0] * len_\n",
    "        product = 1        \n",
    "        count_zeros = 0\n",
    "        i_only_zero = -1\n",
    "        for i in range(len_):\n",
    "            if not nums[i]:\n",
    "                if not count_zeros:\n",
    "                    count_zeros += 1\n",
    "                    i_only_zero = i\n",
    "                else:                    \n",
    "                    return answer\n",
    "        if count_zeros:\n",
    "            for i in range(len_):\n",
    "                if i != i_only_zero:\n",
    "                    product *= nums[i]\n",
    "            answer[i_only_zero] = product\n",
    "            return answer\n",
    "        for i in range(len_):\n",
    "            product *= nums[i]\n",
    "        for i in range(len_):\n",
    "            answer[i] = product // nums[i]\n",
    "        return answer\n",
    "\n",
    "Solution0().productExceptSelf([1,2,3,4])"
   ]
  },
  {
   "cell_type": "code",
   "execution_count": null,
   "metadata": {},
   "outputs": [
    {
     "data": {
      "text/plain": [
       "[24, 12, 8, 6]"
      ]
     },
     "execution_count": 107,
     "metadata": {},
     "output_type": "execute_result"
    }
   ],
   "source": [
    "class Solution1(object):\n",
    "    def productExceptSelf(self, nums):\n",
    "        \"\"\"\n",
    "        :type nums: List[int]\n",
    "        :rtype: List[int]\n",
    "        \"\"\"\n",
    "        len_ = len(nums)\n",
    "        answer = [1] * len_\n",
    "        prefix = 1\n",
    "        for i in range(len_):\n",
    "            prefix *= nums[i]\n",
    "            try:\n",
    "                answer[i+1] = prefix\n",
    "            except:\n",
    "                pass\n",
    "\n",
    "        postfix = 1\n",
    "        for i in range(len_-1, 0, -1):\n",
    "            postfix *= nums[i]\n",
    "            answer[i-1] *= postfix\n",
    "            \n",
    "        return answer\n",
    "\n",
    "Solution1().productExceptSelf([1,2,3,4])"
   ]
  },
  {
   "cell_type": "code",
   "execution_count": 88,
   "metadata": {},
   "outputs": [],
   "source": [
    "import numpy as np"
   ]
  },
  {
   "cell_type": "code",
   "execution_count": 104,
   "metadata": {},
   "outputs": [],
   "source": [
    "job = list(np.random.randint(1, 10**6, 10**3))\n",
    "steps = 10**5"
   ]
  },
  {
   "cell_type": "code",
   "execution_count": 108,
   "metadata": {},
   "outputs": [
    {
     "name": "stderr",
     "output_type": "stream",
     "text": [
      "C:\\Users\\Ansebi\\AppData\\Local\\Temp\\ipykernel_22320\\516404555.py:26: RuntimeWarning: overflow encountered in scalar multiply\n",
      "  product *= nums[i]\n"
     ]
    },
    {
     "name": "stdout",
     "output_type": "stream",
     "text": [
      "CPU times: total: 18.1 s\n",
      "Wall time: 19.9 s\n"
     ]
    }
   ],
   "source": [
    "%%time\n",
    "for _ in range(steps):\n",
    "    Solution0().productExceptSelf(job)"
   ]
  },
  {
   "cell_type": "code",
   "execution_count": 109,
   "metadata": {},
   "outputs": [
    {
     "name": "stderr",
     "output_type": "stream",
     "text": [
      "C:\\Users\\Ansebi\\AppData\\Local\\Temp\\ipykernel_22320\\201429975.py:11: RuntimeWarning: overflow encountered in scalar multiply\n",
      "  accumulator *= nums[i]\n",
      "C:\\Users\\Ansebi\\AppData\\Local\\Temp\\ipykernel_22320\\201429975.py:19: RuntimeWarning: overflow encountered in scalar multiply\n",
      "  accumulator *= nums[i]\n"
     ]
    },
    {
     "name": "stdout",
     "output_type": "stream",
     "text": [
      "CPU times: total: 27.4 s\n",
      "Wall time: 30.3 s\n"
     ]
    }
   ],
   "source": [
    "%%time\n",
    "for _ in range(steps):\n",
    "    Solution1().productExceptSelf(job)"
   ]
  }
 ],
 "metadata": {
  "kernelspec": {
   "display_name": "Python 3",
   "language": "python",
   "name": "python3"
  },
  "language_info": {
   "codemirror_mode": {
    "name": "ipython",
    "version": 3
   },
   "file_extension": ".py",
   "mimetype": "text/x-python",
   "name": "python",
   "nbconvert_exporter": "python",
   "pygments_lexer": "ipython3",
   "version": "3.11.1"
  }
 },
 "nbformat": 4,
 "nbformat_minor": 2
}
